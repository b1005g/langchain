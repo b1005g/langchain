{
 "cells": [
  {
   "cell_type": "code",
   "execution_count": 6,
   "id": "ff8603a8-1c21-4bc8-8ae6-a7f510508291",
   "metadata": {},
   "outputs": [],
   "source": [
    "#!pip install pypdf"
   ]
  },
  {
   "cell_type": "code",
   "execution_count": 7,
   "id": "098163eb-e375-4a80-9725-01ac0be8d834",
   "metadata": {},
   "outputs": [],
   "source": [
    "#!pip install unstructured"
   ]
  },
  {
   "cell_type": "code",
   "execution_count": 9,
   "id": "bd3b64ae-adba-4380-980c-ad655a425196",
   "metadata": {},
   "outputs": [
    {
     "name": "stdout",
     "output_type": "stream",
     "text": [
      "Collecting pdfminer\n",
      "  Downloading pdfminer-20191125.tar.gz (4.2 MB)\n",
      "     ---------------------------------------- 0.0/4.2 MB ? eta -:--:--\n",
      "     -------------------- ------------------- 2.1/4.2 MB 9.8 MB/s eta 0:00:01\n",
      "     ---------------------------------------- 4.2/4.2 MB 10.4 MB/s eta 0:00:00\n",
      "  Preparing metadata (setup.py): started\n",
      "  Preparing metadata (setup.py): finished with status 'done'\n",
      "Collecting pycryptodome (from pdfminer)\n",
      "  Downloading pycryptodome-3.21.0-cp36-abi3-win_amd64.whl.metadata (3.4 kB)\n",
      "Downloading pycryptodome-3.21.0-cp36-abi3-win_amd64.whl (1.8 MB)\n",
      "   ---------------------------------------- 0.0/1.8 MB ? eta -:--:--\n",
      "   ---------------------------------------- 1.8/1.8 MB 12.4 MB/s eta 0:00:00\n",
      "Building wheels for collected packages: pdfminer\n",
      "  Building wheel for pdfminer (setup.py): started\n",
      "  Building wheel for pdfminer (setup.py): finished with status 'done'\n",
      "  Created wheel for pdfminer: filename=pdfminer-20191125-py3-none-any.whl size=6140161 sha256=00b83a5e1cffd79ddcf1af94d9428d4bac9f2135f4398dee52dda89b7a51cad4\n",
      "  Stored in directory: c:\\users\\b1005\\appdata\\local\\pip\\cache\\wheels\\56\\24\\93\\05316c6df89ff210a9a705060277e3acbfd2d1bd3a5853ee19\n",
      "Successfully built pdfminer\n",
      "Installing collected packages: pycryptodome, pdfminer\n",
      "Successfully installed pdfminer-20191125 pycryptodome-3.21.0\n"
     ]
    }
   ],
   "source": [
    "#!pip install pdfminer"
   ]
  },
  {
   "cell_type": "code",
   "execution_count": 3,
   "id": "cdfae689-23cf-44b9-a252-fd9ff0603970",
   "metadata": {},
   "outputs": [],
   "source": [
    "#!pip install pdfminer.six"
   ]
  },
  {
   "cell_type": "code",
   "execution_count": 1,
   "id": "e3dd5672-4e64-4ebc-a85e-acddb48c4ada",
   "metadata": {},
   "outputs": [
    {
     "data": {
      "text/plain": [
       "'54\\n공직자 민원응대 매뉴얼\\n참고 1   \\n특이민원 발생보고서(양식)\\n발생일자 부서 부서장\\n특이민원\\n유형\\n폭언\\n(욕설 등) 협박 폭행 성희롱 기물\\n파손\\n위험물\\n소지\\n주취\\n소란 기타*\\n○\\n  * 무고, 허위사실 유포 등\\n민원인            전화번호\\n담당자 전화번호 담당업무\\n특이민원 \\n발생요지\\n ※ 6하원칙에 따라 핵심내용 위주로 간략하게 작성\\n담당자 \\n의견\\n부서장\\n의견\\n관련부서\\n요청사항\\n \\n※ 필요 시 작성하여 감사, 법무부서 등에 제출\\n특이민원 발생보고서'"
      ]
     },
     "execution_count": 1,
     "metadata": {},
     "output_type": "execute_result"
    }
   ],
   "source": [
    "from langchain.document_loaders import PyPDFLoader\n",
    "from bs4 import BeautifulSoup\n",
    "from docx import Document\n",
    "\n",
    "# PDF 파일 경로\n",
    "pdf_file = \"특이민원보고서_공직자응대매뉴얼.pdf\"\n",
    "\n",
    "# LangChain PDF 로더로 PDF 읽기\n",
    "loader = PyPDFLoader(pdf_file)\n",
    "documents = loader.load()\n",
    "\n",
    "# PDF 텍스트 추출\n",
    "pdf_text = \"\\n\".join([doc.page_content for doc in documents])\n",
    "pdf_text"
   ]
  },
  {
   "cell_type": "code",
   "execution_count": 9,
   "id": "315540ba-0d80-4840-8b26-2024fe5325fa",
   "metadata": {
    "scrolled": true
   },
   "outputs": [
    {
     "data": {
      "text/plain": [
       "[Document(metadata={'source': '특이민원보고서_공직자응대매뉴얼.pdf'}, page_content='<html><head>\\n<meta http-equiv=\"Content-Type\" content=\"text/html\">\\n</head><body>\\n<span style=\"position:absolute; border: gray 1px solid; left:0px; top:50px; width:571px; height:784px;\"></span>\\n<div style=\"position:absolute; top:50px;\"><a name=\"1\">Page 1</a></div>\\n<div style=\"position:absolute; border: textbox 1px solid; writing-mode:lr-tb; left:54px; top:116px; width:9px; height:9px;\"><span style=\"font-family: DIN2014-Demi; font-size:9px\">54\\n<br></span></div><div style=\"position:absolute; border: textbox 1px solid; writing-mode:lr-tb; left:94px; top:155px; width:32px; height:12px;\"><span style=\"font-family: RixHeadL; font-size:11px\">참고 </span><span style=\"font-family: RixHeadB; font-size:12px\">1</span><span style=\"font-family: RixHeadL; font-size:12px\">  \\n<br></span></div><div style=\"position:absolute; border: textbox 1px solid; writing-mode:lr-tb; left:158px; top:168px; width:169px; height:17px;\"><span style=\"font-family: RixHeadGulimM; font-size:17px\">특이민원 발생보고서</span><span style=\"font-family: RixHeadGulimM; font-size:13px\">(양식)\\n<br></span></div><div style=\"position:absolute; border: textbox 1px solid; writing-mode:lr-tb; left:231px; top:243px; width:113px; height:14px;\"><span style=\"font-family: RixHeadB; font-size:14px\">특이민원 발생보고서\\n<br></span></div><div style=\"position:absolute; border: figure 1px solid; writing-mode:False; left:15px; top:50px; width:556px; height:15px;\"><span style=\"position:absolute; border: black 1px solid; left:7px; top:130px; width:56px; height:0px;\"></span>\\n</div><div style=\"position:absolute; border: figure 1px solid; writing-mode:False; left:15px; top:50px; width:556px; height:15px;\"><span style=\"font-family: RixHeadL; font-size:8px\">공직자 </span><span style=\"font-family: RixHeadB; font-size:8px\">민원응대 </span><span style=\"font-family: RixHeadL; font-size:8px\">매뉴얼</span></div><div style=\"position:absolute; border: figure 1px solid; writing-mode:False; left:15px; top:50px; width:556px; height:15px;\"><div style=\"position:absolute; border: figure 1px solid; writing-mode:False; left:1px; top:30px; width:66px; height:33px;\"><span style=\"position:absolute; border: black 1px solid; left:2px; top:31px; width:63px; height:835px;\"></span>\\n</div></div><div style=\"position:absolute; border: figure 1px solid; writing-mode:False; left:82px; top:153px; width:504px; height:69px;\"><span style=\"position:absolute; border: black 1px solid; left:82px; top:223px; width:421px; height:541px;\"></span>\\n</div><span style=\"position:absolute; border: black 1px solid; left:83px; top:223px; width:410px; height:530px;\"></span>\\n<span style=\"position:absolute; border: black 1px solid; left:142px; top:160px; width:351px; height:31px;\"></span>\\n<span style=\"position:absolute; border: black 1px solid; left:83px; top:144px; width:49px; height:39px;\"></span>\\n<div style=\"position:absolute; border: figure 1px solid; writing-mode:False; left:94px; top:226px; width:506px; height:42px;\"><span style=\"position:absolute; border: black 1px solid; left:97px; top:270px; width:60px; height:37px;\"></span>\\n<span style=\"position:absolute; border: black 1px solid; left:238px; top:270px; width:40px; height:37px;\"></span>\\n<span style=\"position:absolute; border: black 1px solid; left:358px; top:270px; width:40px; height:37px;\"></span>\\n<span style=\"position:absolute; border: black 1px solid; left:97px; top:308px; width:60px; height:113px;\"></span>\\n<span style=\"position:absolute; border: black 1px solid; left:97px; top:421px; width:60px; height:36px;\"></span>\\n<span style=\"position:absolute; border: black 1px solid; left:238px; top:421px; width:40px; height:36px;\"></span>\\n<span style=\"position:absolute; border: black 1px solid; left:97px; top:458px; width:60px; height:36px;\"></span>\\n<span style=\"position:absolute; border: black 1px solid; left:238px; top:458px; width:40px; height:36px;\"></span>\\n<span style=\"position:absolute; border: black 1px solid; left:358px; top:458px; width:40px; height:36px;\"></span>\\n<span style=\"position:absolute; border: black 1px solid; left:97px; top:495px; width:60px; height:59px;\"></span>\\n<span style=\"position:absolute; border: black 1px solid; left:97px; top:554px; width:60px; height:59px;\"></span>\\n<span style=\"position:absolute; border: black 1px solid; left:97px; top:614px; width:60px; height:59px;\"></span>\\n<span style=\"position:absolute; border: black 1px solid; left:97px; top:673px; width:60px; height:66px;\"></span>\\n<span style=\"position:absolute; border: black 1px solid; left:96px; top:270px; width:61px; height:0px;\"></span>\\n<span style=\"position:absolute; border: black 1px solid; left:97px; top:271px; width:0px; height:36px;\"></span>\\n<span style=\"position:absolute; border: black 1px solid; left:157px; top:270px; width:40px; height:0px;\"></span>\\n<span style=\"position:absolute; border: black 1px solid; left:198px; top:270px; width:40px; height:0px;\"></span>\\n<span style=\"position:absolute; border: black 1px solid; left:238px; top:270px; width:40px; height:0px;\"></span>\\n<span style=\"position:absolute; border: black 1px solid; left:278px; top:270px; width:40px; height:0px;\"></span>\\n<span style=\"position:absolute; border: black 1px solid; left:318px; top:270px; width:40px; height:0px;\"></span>\\n<span style=\"position:absolute; border: black 1px solid; left:358px; top:270px; width:40px; height:0px;\"></span>\\n<span style=\"position:absolute; border: black 1px solid; left:398px; top:270px; width:40px; height:0px;\"></span>\\n<span style=\"position:absolute; border: black 1px solid; left:438px; top:270px; width:40px; height:0px;\"></span>\\n<span style=\"position:absolute; border: black 1px solid; left:478px; top:271px; width:0px; height:36px;\"></span>\\n<span style=\"position:absolute; border: black 1px solid; left:97px; top:308px; width:0px; height:44px;\"></span>\\n<span style=\"position:absolute; border: black 1px solid; left:97px; top:353px; width:0px; height:36px;\"></span>\\n<span style=\"position:absolute; border: black 1px solid; left:97px; top:389px; width:0px; height:32px;\"></span>\\n<span style=\"position:absolute; border: black 1px solid; left:478px; top:308px; width:0px; height:44px;\"></span>\\n<span style=\"position:absolute; border: black 1px solid; left:478px; top:353px; width:0px; height:36px;\"></span>\\n<span style=\"position:absolute; border: black 1px solid; left:478px; top:389px; width:0px; height:32px;\"></span>\\n<span style=\"position:absolute; border: black 1px solid; left:97px; top:421px; width:0px; height:36px;\"></span>\\n<span style=\"position:absolute; border: black 1px solid; left:478px; top:421px; width:0px; height:36px;\"></span>\\n<span style=\"position:absolute; border: black 1px solid; left:97px; top:458px; width:0px; height:36px;\"></span>\\n<span style=\"position:absolute; border: black 1px solid; left:478px; top:458px; width:0px; height:36px;\"></span>\\n<span style=\"position:absolute; border: black 1px solid; left:97px; top:495px; width:0px; height:59px;\"></span>\\n<span style=\"position:absolute; border: black 1px solid; left:478px; top:495px; width:0px; height:59px;\"></span>\\n<span style=\"position:absolute; border: black 1px solid; left:97px; top:554px; width:0px; height:59px;\"></span>\\n<span style=\"position:absolute; border: black 1px solid; left:478px; top:554px; width:0px; height:59px;\"></span>\\n<span style=\"position:absolute; border: black 1px solid; left:97px; top:614px; width:0px; height:59px;\"></span>\\n<span style=\"position:absolute; border: black 1px solid; left:478px; top:614px; width:0px; height:59px;\"></span>\\n<span style=\"position:absolute; border: black 1px solid; left:97px; top:673px; width:0px; height:65px;\"></span>\\n<span style=\"position:absolute; border: black 1px solid; left:478px; top:673px; width:0px; height:65px;\"></span>\\n<span style=\"position:absolute; border: black 1px solid; left:96px; top:740px; width:61px; height:0px;\"></span>\\n<span style=\"position:absolute; border: black 1px solid; left:157px; top:740px; width:40px; height:0px;\"></span>\\n<span style=\"position:absolute; border: black 1px solid; left:198px; top:740px; width:40px; height:0px;\"></span>\\n<span style=\"position:absolute; border: black 1px solid; left:238px; top:740px; width:40px; height:0px;\"></span>\\n<span style=\"position:absolute; border: black 1px solid; left:278px; top:740px; width:40px; height:0px;\"></span>\\n<span style=\"position:absolute; border: black 1px solid; left:318px; top:740px; width:40px; height:0px;\"></span>\\n<span style=\"position:absolute; border: black 1px solid; left:358px; top:740px; width:40px; height:0px;\"></span>\\n<span style=\"position:absolute; border: black 1px solid; left:398px; top:740px; width:40px; height:0px;\"></span>\\n<span style=\"position:absolute; border: black 1px solid; left:438px; top:740px; width:40px; height:0px;\"></span>\\n<span style=\"position:absolute; border: black 1px solid; left:157px; top:271px; width:0px; height:36px;\"></span>\\n<span style=\"position:absolute; border: black 1px solid; left:238px; top:271px; width:0px; height:36px;\"></span>\\n<span style=\"position:absolute; border: black 1px solid; left:278px; top:271px; width:0px; height:36px;\"></span>\\n<span style=\"position:absolute; border: black 1px solid; left:358px; top:271px; width:0px; height:36px;\"></span>\\n<span style=\"position:absolute; border: black 1px solid; left:398px; top:271px; width:0px; height:36px;\"></span>\\n<span style=\"position:absolute; border: black 1px solid; left:97px; top:308px; width:60px; height:0px;\"></span>\\n<span style=\"position:absolute; border: black 1px solid; left:157px; top:308px; width:40px; height:0px;\"></span>\\n<span style=\"position:absolute; border: black 1px solid; left:157px; top:308px; width:0px; height:44px;\"></span>\\n<span style=\"position:absolute; border: black 1px solid; left:198px; top:308px; width:40px; height:0px;\"></span>\\n<span style=\"position:absolute; border: black 1px solid; left:198px; top:308px; width:0px; height:44px;\"></span>\\n<span style=\"position:absolute; border: black 1px solid; left:238px; top:308px; width:40px; height:0px;\"></span>\\n<span style=\"position:absolute; border: black 1px solid; left:238px; top:308px; width:0px; height:44px;\"></span>\\n<span style=\"position:absolute; border: black 1px solid; left:278px; top:308px; width:40px; height:0px;\"></span>\\n<span style=\"position:absolute; border: black 1px solid; left:278px; top:308px; width:0px; height:44px;\"></span>\\n<span style=\"position:absolute; border: black 1px solid; left:318px; top:308px; width:40px; height:0px;\"></span>\\n<span style=\"position:absolute; border: black 1px solid; left:318px; top:308px; width:0px; height:44px;\"></span>\\n<span style=\"position:absolute; border: black 1px solid; left:358px; top:308px; width:40px; height:0px;\"></span>\\n<span style=\"position:absolute; border: black 1px solid; left:358px; top:308px; width:0px; height:44px;\"></span>\\n<span style=\"position:absolute; border: black 1px solid; left:398px; top:308px; width:40px; height:0px;\"></span>\\n<span style=\"position:absolute; border: black 1px solid; left:398px; top:308px; width:0px; height:44px;\"></span>\\n<span style=\"position:absolute; border: black 1px solid; left:438px; top:308px; width:39px; height:0px;\"></span>\\n<span style=\"position:absolute; border: black 1px solid; left:438px; top:308px; width:0px; height:44px;\"></span>\\n<span style=\"position:absolute; border: black 1px solid; left:157px; top:353px; width:40px; height:0px;\"></span>\\n<span style=\"position:absolute; border: black 1px solid; left:157px; top:353px; width:0px; height:36px;\"></span>\\n<span style=\"position:absolute; border: black 1px solid; left:198px; top:353px; width:40px; height:0px;\"></span>\\n<span style=\"position:absolute; border: black 1px solid; left:198px; top:353px; width:0px; height:36px;\"></span>\\n<span style=\"position:absolute; border: black 1px solid; left:238px; top:353px; width:40px; height:0px;\"></span>\\n<span style=\"position:absolute; border: black 1px solid; left:238px; top:353px; width:0px; height:36px;\"></span>\\n<span style=\"position:absolute; border: black 1px solid; left:278px; top:353px; width:40px; height:0px;\"></span>\\n<span style=\"position:absolute; border: black 1px solid; left:278px; top:353px; width:0px; height:36px;\"></span>\\n<span style=\"position:absolute; border: black 1px solid; left:318px; top:353px; width:40px; height:0px;\"></span>\\n<span style=\"position:absolute; border: black 1px solid; left:318px; top:353px; width:0px; height:36px;\"></span>\\n<span style=\"position:absolute; border: black 1px solid; left:358px; top:353px; width:40px; height:0px;\"></span>\\n<span style=\"position:absolute; border: black 1px solid; left:358px; top:353px; width:0px; height:36px;\"></span>\\n<span style=\"position:absolute; border: black 1px solid; left:398px; top:353px; width:40px; height:0px;\"></span>\\n<span style=\"position:absolute; border: black 1px solid; left:398px; top:353px; width:0px; height:36px;\"></span>\\n<span style=\"position:absolute; border: black 1px solid; left:438px; top:353px; width:39px; height:0px;\"></span>\\n<span style=\"position:absolute; border: black 1px solid; left:438px; top:353px; width:0px; height:36px;\"></span>\\n<span style=\"position:absolute; border: black 1px solid; left:157px; top:389px; width:40px; height:0px;\"></span>\\n<span style=\"position:absolute; border: black 1px solid; left:157px; top:389px; width:0px; height:31px;\"></span>\\n<span style=\"position:absolute; border: black 1px solid; left:198px; top:389px; width:40px; height:0px;\"></span>\\n<span style=\"position:absolute; border: black 1px solid; left:238px; top:389px; width:40px; height:0px;\"></span>\\n<span style=\"position:absolute; border: black 1px solid; left:278px; top:389px; width:40px; height:0px;\"></span>\\n<span style=\"position:absolute; border: black 1px solid; left:318px; top:389px; width:40px; height:0px;\"></span>\\n<span style=\"position:absolute; border: black 1px solid; left:358px; top:389px; width:40px; height:0px;\"></span>\\n<span style=\"position:absolute; border: black 1px solid; left:398px; top:389px; width:40px; height:0px;\"></span>\\n<span style=\"position:absolute; border: black 1px solid; left:438px; top:389px; width:39px; height:0px;\"></span>\\n<span style=\"position:absolute; border: black 1px solid; left:97px; top:421px; width:60px; height:0px;\"></span>\\n<span style=\"position:absolute; border: black 1px solid; left:157px; top:421px; width:40px; height:0px;\"></span>\\n<span style=\"position:absolute; border: black 1px solid; left:157px; top:421px; width:0px; height:36px;\"></span>\\n<span style=\"position:absolute; border: black 1px solid; left:198px; top:421px; width:40px; height:0px;\"></span>\\n<span style=\"position:absolute; border: black 1px solid; left:238px; top:421px; width:40px; height:0px;\"></span>\\n<span style=\"position:absolute; border: black 1px solid; left:238px; top:421px; width:0px; height:36px;\"></span>\\n<span style=\"position:absolute; border: black 1px solid; left:278px; top:421px; width:40px; height:0px;\"></span>\\n<span style=\"position:absolute; border: black 1px solid; left:278px; top:421px; width:0px; height:36px;\"></span>\\n<span style=\"position:absolute; border: black 1px solid; left:318px; top:421px; width:40px; height:0px;\"></span>\\n<span style=\"position:absolute; border: black 1px solid; left:358px; top:421px; width:40px; height:0px;\"></span>\\n<span style=\"position:absolute; border: black 1px solid; left:398px; top:421px; width:40px; height:0px;\"></span>\\n<span style=\"position:absolute; border: black 1px solid; left:438px; top:421px; width:39px; height:0px;\"></span>\\n<span style=\"position:absolute; border: black 1px solid; left:97px; top:458px; width:60px; height:0px;\"></span>\\n<span style=\"position:absolute; border: black 1px solid; left:157px; top:458px; width:40px; height:0px;\"></span>\\n<span style=\"position:absolute; border: black 1px solid; left:157px; top:458px; width:0px; height:36px;\"></span>\\n<span style=\"position:absolute; border: black 1px solid; left:198px; top:458px; width:40px; height:0px;\"></span>\\n<span style=\"position:absolute; border: black 1px solid; left:238px; top:458px; width:40px; height:0px;\"></span>\\n<span style=\"position:absolute; border: black 1px solid; left:238px; top:458px; width:0px; height:36px;\"></span>\\n<span style=\"position:absolute; border: black 1px solid; left:278px; top:458px; width:40px; height:0px;\"></span>\\n<span style=\"position:absolute; border: black 1px solid; left:278px; top:458px; width:0px; height:36px;\"></span>\\n<span style=\"position:absolute; border: black 1px solid; left:318px; top:458px; width:40px; height:0px;\"></span>\\n<span style=\"position:absolute; border: black 1px solid; left:358px; top:458px; width:40px; height:0px;\"></span>\\n<span style=\"position:absolute; border: black 1px solid; left:358px; top:458px; width:0px; height:36px;\"></span>\\n<span style=\"position:absolute; border: black 1px solid; left:398px; top:458px; width:40px; height:0px;\"></span>\\n<span style=\"position:absolute; border: black 1px solid; left:398px; top:458px; width:0px; height:36px;\"></span>\\n<span style=\"position:absolute; border: black 1px solid; left:438px; top:458px; width:39px; height:0px;\"></span>\\n<span style=\"position:absolute; border: black 1px solid; left:97px; top:495px; width:60px; height:0px;\"></span>\\n<span style=\"position:absolute; border: black 1px solid; left:157px; top:495px; width:40px; height:0px;\"></span>\\n<span style=\"position:absolute; border: black 1px solid; left:157px; top:495px; width:0px; height:59px;\"></span>\\n<span style=\"position:absolute; border: black 1px solid; left:198px; top:495px; width:40px; height:0px;\"></span>\\n<span style=\"position:absolute; border: black 1px solid; left:238px; top:495px; width:40px; height:0px;\"></span>\\n<span style=\"position:absolute; border: black 1px solid; left:278px; top:495px; width:40px; height:0px;\"></span>\\n<span style=\"position:absolute; border: black 1px solid; left:318px; top:495px; width:40px; height:0px;\"></span>\\n<span style=\"position:absolute; border: black 1px solid; left:358px; top:495px; width:40px; height:0px;\"></span>\\n<span style=\"position:absolute; border: black 1px solid; left:398px; top:495px; width:40px; height:0px;\"></span>\\n<span style=\"position:absolute; border: black 1px solid; left:438px; top:495px; width:39px; height:0px;\"></span>\\n<span style=\"position:absolute; border: black 1px solid; left:97px; top:554px; width:60px; height:0px;\"></span>\\n<span style=\"position:absolute; border: black 1px solid; left:157px; top:554px; width:40px; height:0px;\"></span>\\n<span style=\"position:absolute; border: black 1px solid; left:157px; top:555px; width:0px; height:59px;\"></span>\\n<span style=\"position:absolute; border: black 1px solid; left:198px; top:554px; width:40px; height:0px;\"></span>\\n<span style=\"position:absolute; border: black 1px solid; left:238px; top:554px; width:40px; height:0px;\"></span>\\n<span style=\"position:absolute; border: black 1px solid; left:278px; top:554px; width:40px; height:0px;\"></span>\\n<span style=\"position:absolute; border: black 1px solid; left:318px; top:554px; width:40px; height:0px;\"></span>\\n<span style=\"position:absolute; border: black 1px solid; left:358px; top:554px; width:40px; height:0px;\"></span>\\n<span style=\"position:absolute; border: black 1px solid; left:398px; top:554px; width:40px; height:0px;\"></span>\\n<span style=\"position:absolute; border: black 1px solid; left:438px; top:554px; width:39px; height:0px;\"></span>\\n<span style=\"position:absolute; border: black 1px solid; left:97px; top:614px; width:60px; height:0px;\"></span>\\n<span style=\"position:absolute; border: black 1px solid; left:157px; top:614px; width:40px; height:0px;\"></span>\\n<span style=\"position:absolute; border: black 1px solid; left:157px; top:614px; width:0px; height:59px;\"></span>\\n<span style=\"position:absolute; border: black 1px solid; left:198px; top:614px; width:40px; height:0px;\"></span>\\n<span style=\"position:absolute; border: black 1px solid; left:238px; top:614px; width:40px; height:0px;\"></span>\\n<span style=\"position:absolute; border: black 1px solid; left:278px; top:614px; width:40px; height:0px;\"></span>\\n<span style=\"position:absolute; border: black 1px solid; left:318px; top:614px; width:40px; height:0px;\"></span>\\n<span style=\"position:absolute; border: black 1px solid; left:358px; top:614px; width:40px; height:0px;\"></span>\\n<span style=\"position:absolute; border: black 1px solid; left:398px; top:614px; width:40px; height:0px;\"></span>\\n<span style=\"position:absolute; border: black 1px solid; left:438px; top:614px; width:39px; height:0px;\"></span>\\n<span style=\"position:absolute; border: black 1px solid; left:97px; top:673px; width:60px; height:0px;\"></span>\\n<span style=\"position:absolute; border: black 1px solid; left:157px; top:673px; width:40px; height:0px;\"></span>\\n<span style=\"position:absolute; border: black 1px solid; left:157px; top:674px; width:0px; height:65px;\"></span>\\n<span style=\"position:absolute; border: black 1px solid; left:198px; top:673px; width:40px; height:0px;\"></span>\\n<span style=\"position:absolute; border: black 1px solid; left:238px; top:673px; width:40px; height:0px;\"></span>\\n<span style=\"position:absolute; border: black 1px solid; left:278px; top:673px; width:40px; height:0px;\"></span>\\n<span style=\"position:absolute; border: black 1px solid; left:318px; top:673px; width:40px; height:0px;\"></span>\\n<span style=\"position:absolute; border: black 1px solid; left:358px; top:673px; width:40px; height:0px;\"></span>\\n<span style=\"position:absolute; border: black 1px solid; left:398px; top:673px; width:40px; height:0px;\"></span>\\n<span style=\"position:absolute; border: black 1px solid; left:438px; top:673px; width:39px; height:0px;\"></span>\\n<span style=\"font-family: KoPubWorldDotumPB; font-size:9px\">발생일자부서부서장특이민원유형</span><span style=\"font-family: KoPubWorldDotumPM; font-size:8px\">폭언</span><span style=\"font-family: KoPubWorldDotumPM; font-size:9px\">(욕설 등)협박폭행성희롱 </span><span style=\"font-family: KoPubWorldDotumPM; font-size:8px\">기물</span><span style=\"font-family: KoPubWorldDotumPM; font-size:9px\">파손</span><span style=\"font-family: KoPubWorldDotumPM; font-size:8px\">위험물</span><span style=\"font-family: KoPubWorldDotumPM; font-size:9px\">소지</span><span style=\"font-family: KoPubWorldDotumPM; font-size:8px\">주취</span><span style=\"font-family: KoPubWorldDotumPM; font-size:9px\">소란기타*</span><span style=\"font-family: KoPubWorldDotumPL; font-size:9px\">○</span><span style=\"font-family: KoPubWorldDotumPL; font-size:8px\">  * 무고, 허위사실 유포 등</span><span style=\"font-family: KoPubWorldDotumPB; font-size:9px\">민원인</span><span style=\"font-family: KoPubWorldDotumPL; font-size:9px\">           </span><span style=\"font-family: KoPubWorldDotumPB; font-size:9px\">전화번호담당자전화번호담당업무특이민원 발생요지</span><span style=\"font-family: KoPubWorldDotumPL; font-size:8px\"> ※ 6하원칙에 따라 핵심내용 위주로 간략하게 작성</span><span style=\"font-family: KoPubWorldDotumPB; font-size:9px\">담당자 의견부서장의견</span><span style=\"font-family: KoPubWorldDotumPB; font-size:9px\">관련부서</span><span style=\"font-family: KoPubWorldDotumPB; font-size:9px\">요청사항</span><span style=\"font-family: KoPubWorldDotumPL; font-size:8px\"> ※ 필요 시 작성하여 감사, 법무부서 등에 제출</span></div><span style=\"position:absolute; border: black 1px solid; left:0px; top:73px; width:15px; height:0px;\"></span>\\n<span style=\"position:absolute; border: black 1px solid; left:556px; top:73px; width:15px; height:0px;\"></span>\\n<span style=\"position:absolute; border: black 1px solid; left:0px; top:810px; width:15px; height:0px;\"></span>\\n<span style=\"position:absolute; border: black 1px solid; left:556px; top:810px; width:15px; height:0px;\"></span>\\n<span style=\"position:absolute; border: black 1px solid; left:23px; top:50px; width:0px; height:15px;\"></span>\\n<span style=\"position:absolute; border: black 1px solid; left:23px; top:819px; width:0px; height:15px;\"></span>\\n<span style=\"position:absolute; border: black 1px solid; left:547px; top:50px; width:0px; height:15px;\"></span>\\n<span style=\"position:absolute; border: black 1px solid; left:547px; top:819px; width:0px; height:15px;\"></span>\\n<span style=\"position:absolute; border: black 1px solid; left:0px; top:73px; width:15px; height:0px;\"></span>\\n<span style=\"position:absolute; border: black 1px solid; left:556px; top:73px; width:15px; height:0px;\"></span>\\n<span style=\"position:absolute; border: black 1px solid; left:0px; top:810px; width:15px; height:0px;\"></span>\\n<span style=\"position:absolute; border: black 1px solid; left:556px; top:810px; width:15px; height:0px;\"></span>\\n<span style=\"position:absolute; border: black 1px solid; left:23px; top:50px; width:0px; height:15px;\"></span>\\n<span style=\"position:absolute; border: black 1px solid; left:23px; top:819px; width:0px; height:15px;\"></span>\\n<span style=\"position:absolute; border: black 1px solid; left:547px; top:50px; width:0px; height:15px;\"></span>\\n<span style=\"position:absolute; border: black 1px solid; left:547px; top:819px; width:0px; height:15px;\"></span>\\n<div style=\"position:absolute; top:0px;\">Page: <a href=\"#1\">1</a></div>\\n</body></html>\\n')]"
      ]
     },
     "execution_count": 9,
     "metadata": {},
     "output_type": "execute_result"
    }
   ],
   "source": [
    "from langchain_community.document_loaders import PDFMinerPDFasHTMLLoader\n",
    "\n",
    "loader = PDFMinerPDFasHTMLLoader(pdf_file)\n",
    "\n",
    "# 데이터 로드\n",
    "docs = loader.load()\n",
    "\n",
    "# 문서의 내용 출력\n",
    "docs"
   ]
  },
  {
   "cell_type": "code",
   "execution_count": 10,
   "id": "caa615df-51b4-47ae-957d-4a06e2e85b90",
   "metadata": {},
   "outputs": [
    {
     "name": "stdout",
     "output_type": "stream",
     "text": [
      "Word 문서가 'output_word_document.docx'에 저장되었습니다.\n"
     ]
    }
   ],
   "source": [
    "# HTML 데이터 추출\n",
    "document_html = docs[0].page_content  # 첫 번째 문서의 HTML 내용\n",
    "\n",
    "# BeautifulSoup으로 HTML 파싱\n",
    "soup = BeautifulSoup(document_html, 'html.parser')\n",
    "\n",
    "# Word 문서 생성\n",
    "doc = Document()\n",
    "\n",
    "# HTML 요소를 Word 문서에 추가\n",
    "for element in soup.body.find_all(recursive=False):\n",
    "    if element.name in ['div', 'p', 'span']:  # 주요 텍스트 요소 필터링\n",
    "        text = element.get_text(strip=True)\n",
    "        if text:\n",
    "            doc.add_paragraph(text)\n",
    "\n",
    "# Word 문서 저장\n",
    "file_path = \"output_word_document.docx\"  # 저장할 Word 파일 경로\n",
    "\n",
    "try:\n",
    "    doc.save(file_path)\n",
    "    print(f\"Word 문서가 '{file_path}'에 저장되었습니다.\")\n",
    "except Exception as e:\n",
    "    print(f\"문서 저장 중 오류가 발생했습니다: {e}\")"
   ]
  },
  {
   "cell_type": "code",
   "execution_count": 11,
   "id": "968d2668-6763-42e0-b22f-126bb1caa71c",
   "metadata": {},
   "outputs": [
    {
     "name": "stdout",
     "output_type": "stream",
     "text": [
      "Word 문서가 'markdown_table_to_word.docx'에 저장되었습니다.\n"
     ]
    }
   ],
   "source": [
    "from docx import Document\n",
    "\n",
    "# Markdown 표 데이터\n",
    "markdown_table = \"\"\"\n",
    "| 기능 영역 | 상세 설명 |\n",
    "|-----------|-----------|\n",
    "| 언어 모델 | 메일 작성, 문서 요약, 번역 기능 지원 |\n",
    "| 코드 모델 | AI 코딩 어시스턴트 '코드아이(code.i)', 사내 소프트웨어 개발 지원 |\n",
    "| 이미지 모델 | 창의적 이미지 생성, 고해상도 전환 지원 |\n",
    "\"\"\"\n",
    "\n",
    "# Markdown 표를 파싱하여 행렬 형태로 변환\n",
    "def parse_markdown_table(markdown):\n",
    "    lines = markdown.strip().split(\"\\n\")\n",
    "    headers = lines[0].strip('|').split('|')\n",
    "    rows = [line.strip('|').split('|') for line in lines[2:]]  # 데이터 행만 가져오기\n",
    "    return headers, rows\n",
    "\n",
    "headers, rows = parse_markdown_table(markdown_table)\n",
    "\n",
    "# Word 문서 생성\n",
    "doc = Document()\n",
    "\n",
    "doc.add_heading('Markdown 표를 Word 표로 변환', level=1)\n",
    "\n",
    "# Word 문서에 표 추가\n",
    "table = doc.add_table(rows=len(rows) + 1, cols=len(headers))\n",
    "\n",
    "# 표 헤더 추가\n",
    "for i, header in enumerate(headers):\n",
    "    table.cell(0, i).text = header.strip()\n",
    "\n",
    "# 표 데이터 추가\n",
    "for row_idx, row in enumerate(rows):\n",
    "    for col_idx, cell in enumerate(row):\n",
    "        table.cell(row_idx + 1, col_idx).text = cell.strip()\n",
    "\n",
    "# Word 문서 저장\n",
    "file_path = \"markdown_table_to_word.docx\"\n",
    "doc.save(file_path)\n",
    "\n",
    "print(f\"Word 문서가 '{file_path}'에 저장되었습니다.\")"
   ]
  },
  {
   "cell_type": "code",
   "execution_count": 12,
   "id": "ab355ca2-6c16-423b-9943-1285c859e3e0",
   "metadata": {},
   "outputs": [
    {
     "name": "stdout",
     "output_type": "stream",
     "text": [
      "Word 문서가 'markdown_to_docx_with_borders.docx'에 저장되었습니다.\n"
     ]
    }
   ],
   "source": [
    "from docx import Document\n",
    "from docx.shared import Pt\n",
    "from docx.oxml.ns import qn\n",
    "from docx.oxml import OxmlElement\n",
    "\n",
    "# Markdown 형식의 데이터를 Word 표로 변환\n",
    "markdown_table = \"\"\"\n",
    "| 기능 영역 | 상세 설명 |\n",
    "|-----------|-----------|\n",
    "| 언어 모델 | 메일 작성, 문서 요약, 번역 기능 지원 |\n",
    "| 코드 모델 | AI 코딩 어시스턴트 '코드아이(code.i)', 사내 소프트웨어 개발 지원 |\n",
    "| 이미지 모델 | 창의적 이미지 생성, 고해상도 전환 지원 |\n",
    "\"\"\"\n",
    "\n",
    "# Markdown 표를 파싱\n",
    "lines = markdown_table.strip().split(\"\\n\")\n",
    "headers = [cell.strip() for cell in lines[0].split(\"|\") if cell.strip()]\n",
    "rows = [\n",
    "    [cell.strip() for cell in row.split(\"|\") if cell.strip()]\n",
    "    for row in lines[2:]  # 데이터 행만 추출\n",
    "]\n",
    "\n",
    "# Word 문서 생성\n",
    "doc = Document()\n",
    "doc.add_heading(\"Markdown 표 변환\", level=1)\n",
    "\n",
    "# Word 표 생성\n",
    "table = doc.add_table(rows=len(rows) + 1, cols=len(headers))\n",
    "table.style = 'Table Grid'  # 표 스타일 지정 (테두리 포함)\n",
    "\n",
    "# 헤더 추가\n",
    "for idx, header in enumerate(headers):\n",
    "    cell = table.cell(0, idx)\n",
    "    cell.text = header\n",
    "\n",
    "# 데이터 추가\n",
    "for row_idx, row in enumerate(rows):\n",
    "    for col_idx, cell_text in enumerate(row):\n",
    "        cell = table.cell(row_idx + 1, col_idx)\n",
    "        cell.text = cell_text\n",
    "\n",
    "# 테두리 설정 함수\n",
    "def set_cell_border(cell, border_color=\"000000\", border_size=\"4\"):\n",
    "    \"\"\"\n",
    "    Word 문서의 셀에 테두리를 추가합니다.\n",
    "    \"\"\"\n",
    "    tc = cell._element\n",
    "    tcPr = tc.get_or_add_tcPr()\n",
    "    for border_tag in ['top', 'bottom', 'left', 'right']:\n",
    "        border = OxmlElement(f'w:{border_tag}')\n",
    "        border.set(qn('w:val'), 'single')  # 단일선\n",
    "        border.set(qn('w:sz'), border_size)  # 테두리 두께\n",
    "        border.set(qn('w:space'), '0')  # 간격\n",
    "        border.set(qn('w:color'), border_color)  # 색상\n",
    "        tcPr.append(border)\n",
    "\n",
    "# 모든 셀에 테두리 추가\n",
    "for row in table.rows:\n",
    "    for cell in row.cells:\n",
    "        set_cell_border(cell)\n",
    "\n",
    "# Word 문서 저장\n",
    "file_path = \"markdown_to_docx_with_borders.docx\"\n",
    "doc.save(file_path)\n",
    "\n",
    "print(f\"Word 문서가 '{file_path}'에 저장되었습니다.\")\n"
   ]
  },
  {
   "cell_type": "code",
   "execution_count": null,
   "id": "7d200dab-ea66-4bd9-8c9d-48bf3b1a9737",
   "metadata": {},
   "outputs": [],
   "source": []
  }
 ],
 "metadata": {
  "kernelspec": {
   "display_name": "langchain",
   "language": "python",
   "name": "langchain"
  },
  "language_info": {
   "codemirror_mode": {
    "name": "ipython",
    "version": 3
   },
   "file_extension": ".py",
   "mimetype": "text/x-python",
   "name": "python",
   "nbconvert_exporter": "python",
   "pygments_lexer": "ipython3",
   "version": "3.11.11"
  }
 },
 "nbformat": 4,
 "nbformat_minor": 5
}
