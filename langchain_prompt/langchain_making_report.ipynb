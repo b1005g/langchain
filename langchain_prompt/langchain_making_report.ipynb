{
 "cells": [
  {
   "cell_type": "code",
   "execution_count": 73,
   "id": "b2e5bb22-77c6-4631-80d5-4097732919de",
   "metadata": {},
   "outputs": [
    {
     "name": "stdout",
     "output_type": "stream",
     "text": [
      "Collecting python-docx\n",
      "  Using cached python_docx-1.1.2-py3-none-any.whl.metadata (2.0 kB)\n",
      "Collecting lxml>=3.1.0 (from python-docx)\n",
      "  Using cached lxml-5.3.0-cp311-cp311-win_amd64.whl.metadata (3.9 kB)\n",
      "Requirement already satisfied: typing-extensions>=4.9.0 in c:\\users\\b1005\\anaconda3\\envs\\langchain\\lib\\site-packages (from python-docx) (4.12.2)\n",
      "Using cached python_docx-1.1.2-py3-none-any.whl (244 kB)\n",
      "Using cached lxml-5.3.0-cp311-cp311-win_amd64.whl (3.8 MB)\n",
      "Installing collected packages: lxml, python-docx\n",
      "Successfully installed lxml-5.3.0 python-docx-1.1.2\n"
     ]
    }
   ],
   "source": [
    "#!pip install python-docx"
   ]
  },
  {
   "cell_type": "code",
   "execution_count": 48,
   "id": "293d33a0-6e05-4bc3-bc0d-34f39737748c",
   "metadata": {},
   "outputs": [
    {
     "data": {
      "text/plain": [
       "True"
      ]
     },
     "execution_count": 48,
     "metadata": {},
     "output_type": "execute_result"
    }
   ],
   "source": [
    "from dotenv import load_dotenv\n",
    "\n",
    "load_dotenv()"
   ]
  },
  {
   "cell_type": "code",
   "execution_count": 49,
   "id": "4aa8a8d4-6dbd-444c-b822-68549838a714",
   "metadata": {},
   "outputs": [],
   "source": [
    "import pandas as pd\n",
    "import openai\n",
    "\n",
    "# 1. API 키 읽기\n",
    "def load_api_key(file_path):\n",
    "    with open(file_path, 'r') as file:\n",
    "        return file.read().strip()\n",
    "\n",
    "# 2. API 키 설정\n",
    "api_key = load_api_key(\"api_key.txt\")\n",
    "openai.api_key = api_key"
   ]
  },
  {
   "cell_type": "code",
   "execution_count": null,
   "id": "859db8d4-66e1-4094-8010-d98ba9c06247",
   "metadata": {},
   "outputs": [],
   "source": [
    "import os"
   ]
  },
  {
   "cell_type": "code",
   "execution_count": 51,
   "id": "e5abe454-5600-4764-8600-44971ae7fd62",
   "metadata": {},
   "outputs": [
    {
     "name": "stdout",
     "output_type": "stream",
     "text": [
      "LangSmith 추적을 시작합니다.\n",
      "[프로젝트명]\n",
      "make-report\n"
     ]
    }
   ],
   "source": [
    "from langchain_teddynote import logging\n",
    "\n",
    "# 프로젝트 이름을 입력합니다.\n",
    "logging.langsmith(\"make-report\")"
   ]
  },
  {
   "cell_type": "code",
   "execution_count": 52,
   "id": "db7da9d7-1aaf-42e2-b57b-ebf22e3fb7ec",
   "metadata": {},
   "outputs": [],
   "source": [
    "from langchain_openai import ChatOpenAI\n",
    "from langchain_teddynote.messages import stream_response\n",
    "llm = ChatOpenAI(\n",
    "    temperature=0,  # 창의성\n",
    "    model_name=\"gpt-4o\",  # 모델명\n",
    ")"
   ]
  },
  {
   "cell_type": "markdown",
   "id": "512215a6-a47f-499f-bb09-ea3e66412428",
   "metadata": {},
   "source": [
    "# FewShotChatMessagePromptTemplate"
   ]
  },
  {
   "cell_type": "code",
   "execution_count": 53,
   "id": "82627b0d-fe46-4797-9237-ee3933f60f67",
   "metadata": {},
   "outputs": [],
   "source": [
    "#보고서 작성 포맷"
   ]
  },
  {
   "cell_type": "code",
   "execution_count": 54,
   "id": "566894da-1799-44b7-a28b-186e2833fbe8",
   "metadata": {},
   "outputs": [],
   "source": [
    "examples = [\n",
    "    {\n",
    "        \"instruction\": \"당신은 회의록 작성 전문가 입니다. 주어진 정보를 바탕으로 회의록을 작성해 주세요\",\n",
    "        \"input\": \"2023년 12월 25일, XYZ 회사의 마케팅 전략 회의가 오후 3시에 시작되었다. 회의에는 마케팅 팀장인 김수진, 디지털 마케팅 담당자인 박지민, 소셜 미디어 관리자인 이준호가 참석했다. 회의의 주요 목적은 2024년 상반기 마케팅 전략을 수립하고, 새로운 소셜 미디어 캠페인에 대한 아이디어를 논의하는 것이었다. 팀장인 김수진은 최근 시장 동향에 대한 간략한 개요를 제공했으며, 이어서 각 팀원이 자신의 분야에서의 전략적 아이디어를 발표했다.\",\n",
    "        \"answer\": \"\"\"\n",
    "회의록: XYZ 회사 마케팅 전략 회의\n",
    "일시: 2023년 12월 25일\n",
    "장소: XYZ 회사 회의실\n",
    "참석자: 김수진 (마케팅 팀장), 박지민 (디지털 마케팅 담당자), 이준호 (소셜 미디어 관리자)\n",
    "\n",
    "1. 개회\n",
    "   - 회의는 김수진 팀장의 개회사로 시작됨.\n",
    "   - 회의의 목적은 2024년 상반기 마케팅 전략 수립 및 새로운 소셜 미디어 캠페인 아이디어 논의.\n",
    "\n",
    "2. 시장 동향 개요 (김수진)\n",
    "   - 김수진 팀장은 최근 시장 동향에 대한 분석을 제시.\n",
    "   - 소비자 행동 변화와 경쟁사 전략에 대한 통찰 공유.\n",
    "\n",
    "3. 디지털 마케팅 전략 (박지민)\n",
    "   - 박지민은 디지털 마케팅 전략에 대해 발표.\n",
    "   - 온라인 광고와 SEO 최적화 방안에 중점을 둠.\n",
    "\n",
    "4. 소셜 미디어 캠페인 (이준호)\n",
    "   - 이준호는 새로운 소셜 미디어 캠페인에 대한 아이디어를 제안.\n",
    "   - 인플루언서 마케팅과 콘텐츠 전략에 대한 계획을 설명함.\n",
    "\n",
    "5. 종합 논의\n",
    "   - 팀원들 간의 아이디어 공유 및 토론.\n",
    "   - 각 전략에 대한 예산 및 자원 배분에 대해 논의.\n",
    "\n",
    "6. 마무리\n",
    "   - 다음 회의 날짜 및 시간 확정.\n",
    "   - 회의록 정리 및 배포는 박지민 담당.\n",
    "\"\"\",\n",
    "    },\n",
    "    {\n",
    "        \"instruction\": \"당신은 요약 전문가 입니다. 다음 주어진 정보를 바탕으로 내용을 요약해 주세요\",\n",
    "        \"input\": \"이 문서는 '지속 가능한 도시 개발을 위한 전략'에 대한 20페이지 분량의 보고서입니다. 보고서는 지속 가능한 도시 개발의 중요성, 현재 도시화의 문제점, 그리고 도시 개발을 지속 가능하게 만들기 위한 다양한 전략을 포괄적으로 다루고 있습니다. 이 보고서는 또한 성공적인 지속 가능한 도시 개발 사례를 여러 국가에서 소개하고, 이러한 사례들을 통해 얻은 교훈을 요약하고 있습니다.\",\n",
    "        \"answer\": \"\"\"\n",
    "문서 요약: 지속 가능한 도시 개발을 위한 전략 보고서\n",
    "\n",
    "- 중요성: 지속 가능한 도시 개발이 필수적인 이유와 그에 따른 사회적, 경제적, 환경적 이익을 강조.\n",
    "- 현 문제점: 현재의 도시화 과정에서 발생하는 주요 문제점들, 예를 들어 환경 오염, 자원 고갈, 불평등 증가 등을 분석.\n",
    "- 전략: 지속 가능한 도시 개발을 달성하기 위한 다양한 전략 제시. 이에는 친환경 건축, 대중교통 개선, 에너지 효율성 증대, 지역사회 참여 강화 등이 포함됨.\n",
    "- 사례 연구: 전 세계 여러 도시의 성공적인 지속 가능한 개발 사례를 소개. 예를 들어, 덴마크의 코펜하겐, 일본의 요코하마 등의 사례를 통해 실현 가능한 전략들을 설명.\n",
    "- 교훈: 이러한 사례들에서 얻은 주요 교훈을 요약. 강조된 교훈에는 다각적 접근의 중요성, 지역사회와의 협력, 장기적 계획의 필요성 등이 포함됨.\n",
    "\n",
    "이 보고서는 지속 가능한 도시 개발이 어떻게 현실적이고 효과적인 형태로 이루어질 수 있는지에 대한 심도 있는 분석을 제공합니다.\n",
    "\"\"\",\n",
    "    },\n",
    "    {\n",
    "        \"instruction\": \"당신은 문장 교정 전문가 입니다. 다음 주어진 문장을 교정해 주세요\",\n",
    "        \"input\": \"우리 회사는 새로운 마케팅 전략을 도입하려고 한다. 이를 통해 고객과의 소통이 더 효과적이 될 것이다.\",\n",
    "        \"answer\": \"본 회사는 새로운 마케팅 전략을 도입함으로써, 고객과의 소통을 보다 효과적으로 개선할 수 있을 것으로 기대된다.\",\n",
    "    },\n",
    "]"
   ]
  },
  {
   "cell_type": "code",
   "execution_count": 55,
   "id": "c9ba254d-50f2-4ab9-8edd-98f1ec09ed25",
   "metadata": {},
   "outputs": [],
   "source": [
    "#!pip install langchain_chroma"
   ]
  },
  {
   "cell_type": "code",
   "execution_count": 56,
   "id": "8f982a8d-4ad8-4e32-9af2-8e357945a59d",
   "metadata": {},
   "outputs": [],
   "source": [
    "from langchain_core.prompts import ChatPromptTemplate, FewShotChatMessagePromptTemplate\n",
    "from langchain_core.example_selectors import (SemanticSimilarityExampleSelector,)\n",
    "from langchain_openai import OpenAIEmbeddings\n",
    "from langchain_chroma import Chroma\n",
    "\n",
    "chroma = Chroma(\"fewshot_chat\", OpenAIEmbeddings())\n",
    "\n",
    "example_prompt = ChatPromptTemplate.from_messages(\n",
    "    [\n",
    "        (\"human\", \"{instruction}:\\n{input}\"),\n",
    "        (\"ai\", \"{answer}\"),\n",
    "    ]\n",
    ")\n",
    "\n",
    "example_selector = SemanticSimilarityExampleSelector.from_examples(\n",
    "    # 여기에는 선택 가능한 예시 목록이 있습니다.\n",
    "    examples,\n",
    "    # 여기에는 의미적 유사성을 측정하는 데 사용되는 임베딩을 생성하는 임베딩 클래스가 있습니다.\n",
    "    OpenAIEmbeddings(),\n",
    "    # 여기에는 임베딩을 저장하고 유사성 검색을 수행하는 데 사용되는 VectorStore 클래스가 있습니다.\n",
    "    chroma,\n",
    "    # 이것은 생성할 예시의 수입니다.\n",
    "    k=1,\n",
    ")\n",
    "\n",
    "few_shot_prompt = FewShotChatMessagePromptTemplate(\n",
    "    example_selector=example_selector,\n",
    "    example_prompt=example_prompt,\n",
    ")"
   ]
  },
  {
   "cell_type": "code",
   "execution_count": 57,
   "id": "f73fb4c8-786a-4c28-827a-f632951b2545",
   "metadata": {},
   "outputs": [],
   "source": [
    "question = {\n",
    "    \"instruction\": \"회의록을 작성해 주세요\",\n",
    "    \"input\": \"2023년 12월 26일, ABC 기술 회사의 제품 개발 팀은 새로운 모바일 애플리케이션 프로젝트에 대한 주간 진행 상황 회의를 가졌다. 이 회의에는 프로젝트 매니저인 최현수, 주요 개발자인 황지연, UI/UX 디자이너인 김태영이 참석했다. 회의의 주요 목적은 프로젝트의 현재 진행 상황을 검토하고, 다가오는 마일스톤에 대한 계획을 수립하는 것이었다. 각 팀원은 자신의 작업 영역에 대한 업데이트를 제공했고, 팀은 다음 주까지의 목표를 설정했다.\",\n",
    "}"
   ]
  },
  {
   "cell_type": "code",
   "execution_count": 58,
   "id": "29dafc16-f449-4ef8-a642-1e71754bced9",
   "metadata": {},
   "outputs": [
    {
     "data": {
      "text/plain": [
       "[{'answer': '\\n회의록: XYZ 회사 마케팅 전략 회의\\n일시: 2023년 12월 25일\\n장소: XYZ 회사 회의실\\n참석자: 김수진 (마케팅 팀장), 박지민 (디지털 마케팅 담당자), 이준호 (소셜 미디어 관리자)\\n\\n1. 개회\\n   - 회의는 김수진 팀장의 개회사로 시작됨.\\n   - 회의의 목적은 2024년 상반기 마케팅 전략 수립 및 새로운 소셜 미디어 캠페인 아이디어 논의.\\n\\n2. 시장 동향 개요 (김수진)\\n   - 김수진 팀장은 최근 시장 동향에 대한 분석을 제시.\\n   - 소비자 행동 변화와 경쟁사 전략에 대한 통찰 공유.\\n\\n3. 디지털 마케팅 전략 (박지민)\\n   - 박지민은 디지털 마케팅 전략에 대해 발표.\\n   - 온라인 광고와 SEO 최적화 방안에 중점을 둠.\\n\\n4. 소셜 미디어 캠페인 (이준호)\\n   - 이준호는 새로운 소셜 미디어 캠페인에 대한 아이디어를 제안.\\n   - 인플루언서 마케팅과 콘텐츠 전략에 대한 계획을 설명함.\\n\\n5. 종합 논의\\n   - 팀원들 간의 아이디어 공유 및 토론.\\n   - 각 전략에 대한 예산 및 자원 배분에 대해 논의.\\n\\n6. 마무리\\n   - 다음 회의 날짜 및 시간 확정.\\n   - 회의록 정리 및 배포는 박지민 담당.\\n',\n",
       "  'input': '2023년 12월 25일, XYZ 회사의 마케팅 전략 회의가 오후 3시에 시작되었다. 회의에는 마케팅 팀장인 김수진, 디지털 마케팅 담당자인 박지민, 소셜 미디어 관리자인 이준호가 참석했다. 회의의 주요 목적은 2024년 상반기 마케팅 전략을 수립하고, 새로운 소셜 미디어 캠페인에 대한 아이디어를 논의하는 것이었다. 팀장인 김수진은 최근 시장 동향에 대한 간략한 개요를 제공했으며, 이어서 각 팀원이 자신의 분야에서의 전략적 아이디어를 발표했다.',\n",
       "  'instruction': '당신은 회의록 작성 전문가 입니다. 주어진 정보를 바탕으로 회의록을 작성해 주세요'}]"
      ]
     },
     "execution_count": 58,
     "metadata": {},
     "output_type": "execute_result"
    }
   ],
   "source": [
    "example_selector.select_examples(question)"
   ]
  },
  {
   "cell_type": "code",
   "execution_count": 59,
   "id": "d30cf2f1-512d-47be-95d5-502fdae68831",
   "metadata": {},
   "outputs": [],
   "source": [
    "final_prompt = ChatPromptTemplate.from_messages(\n",
    "    [\n",
    "        (\n",
    "            \"system\",\n",
    "            \"You are a helpful assistant.\",\n",
    "        ),\n",
    "        few_shot_prompt,\n",
    "        (\"human\", \"{instruction}\\n{input}\"),\n",
    "    ]\n",
    ")"
   ]
  },
  {
   "cell_type": "code",
   "execution_count": 60,
   "id": "5c00e4dc-efb4-47cb-b9fa-61da4b4e541c",
   "metadata": {
    "scrolled": true
   },
   "outputs": [
    {
     "name": "stdout",
     "output_type": "stream",
     "text": [
      "회의록: ABC 기술 회사 제품 개발 팀 주간 진행 상황 회의\n",
      "일시: 2023년 12월 26일\n",
      "장소: ABC 기술 회사 회의실\n",
      "참석자: 최현수 (프로젝트 매니저), 황지연 (주요 개발자), 김태영 (UI/UX 디자이너)\n",
      "\n",
      "1. 개회\n",
      "   - 회의는 최현수 프로젝트 매니저의 개회사로 시작됨.\n",
      "   - 회의의 목적은 프로젝트의 현재 진행 상황을 검토하고 다가오는 마일스톤에 대한 계획을 수립하는 것임.\n",
      "\n",
      "2. 진행 상황 업데이트\n",
      "   - **최현수 (프로젝트 매니저)**\n",
      "     - 전체 프로젝트 일정과 현재 진행 상황에 대한 개요 제공.\n",
      "     - 주요 이슈 및 해결 방안 논의.\n",
      "\n",
      "   - **황지연 (주요 개발자)**\n",
      "     - 개발 진행 상황 보고.\n",
      "     - 현재까지 완료된 기능과 남은 작업에 대한 설명.\n",
      "     - 개발 중 발생한 기술적 문제와 해결 방안 공유.\n",
      "\n",
      "   - **김태영 (UI/UX 디자이너)**\n",
      "     - UI/UX 디자인 진행 상황 업데이트.\n",
      "     - 사용자 피드백 반영 여부 및 디자인 수정 사항 설명.\n",
      "     - 디자인 관련 도전 과제와 해결 방안 논의.\n",
      "\n",
      "3. 다가오는 마일스톤 계획\n",
      "   - 각 팀원은 다음 주까지의 목표를 설정.\n",
      "   - 최현수는 마일스톤 달성을 위한 주요 작업과 책임 할당을 조정.\n",
      "\n",
      "4. 종합 논의\n",
      "   - 팀원들 간의 협업 방안 및 일정 조율.\n",
      "   - 추가 자원 필요 여부 및 지원 방안 논의.\n",
      "\n",
      "5. 마무리\n",
      "   - 다음 회의 날짜 및 시간 확정.\n",
      "   - 회의록 정리 및 배포는 최현수 담당."
     ]
    }
   ],
   "source": [
    "# chain 생성\n",
    "chain = final_prompt | llm\n",
    "\n",
    "# 실행 및 결과 출력\n",
    "answer = chain.stream(question)\n",
    "# 결과 확인\n",
    "stream_response(answer)"
   ]
  },
  {
   "cell_type": "markdown",
   "id": "b9d63f53-6e28-494c-9c8b-b246edaeba72",
   "metadata": {},
   "source": [
    "# DOCUMENT 만들기"
   ]
  },
  {
   "cell_type": "code",
   "execution_count": 67,
   "id": "435d53fe-9761-408b-badc-a2a451088f8a",
   "metadata": {},
   "outputs": [
    {
     "name": "stdout",
     "output_type": "stream",
     "text": [
      "\n",
      "    \"instruction\": \"회의록을 작성해 주세요\",\n",
      "    \"input\": (\"2023년 12월 26일, ABC 기술 회사의 제품 개발 팀은 새로운 모바일 애플리케이션 프로젝트에 대한 주간 진행 상황 회의를 가졌다.\"\n",
      "    \"이 회의에는 프로젝트 매니저인 최현수, 주요 개발자인 황지연, UI/UX 디자이너인 김태영이 참석했다. 회의의 주요 목적은 프로젝트의 현재 진행 상황을 검토하고,\"\n",
      "    \"다가오는 마일스톤에 대한 계획을 수립하는 것이었다. 각 팀원은 자신의 작업 영역에 대한 업데이트를 제공했고, 팀은 다음 주까지의 목표를 설정했다.\"\n",
      "    \n"
     ]
    }
   ],
   "source": [
    "from langchain.prompts import PromptTemplate\n",
    "\n",
    "template_string = \"\"\"\n",
    "    \"instruction\": \"회의록을 작성해 주세요\",\n",
    "    \"input\": (\"2023년 12월 26일, ABC 기술 회사의 제품 개발 팀은 새로운 모바일 애플리케이션 프로젝트에 대한 주간 진행 상황 회의를 가졌다.\"\n",
    "    \"이 회의에는 프로젝트 매니저인 최현수, 주요 개발자인 황지연, UI/UX 디자이너인 김태영이 참석했다. 회의의 주요 목적은 프로젝트의 현재 진행 상황을 검토하고,\"\n",
    "    \"다가오는 마일스톤에 대한 계획을 수립하는 것이었다. 각 팀원은 자신의 작업 영역에 대한 업데이트를 제공했고, 팀은 다음 주까지의 목표를 설정했다.\"\n",
    "    \"\"\"\n",
    "    \n",
    "\n",
    "# 보고서 주제와 구조 정의\n",
    "prompt_template = PromptTemplate(template=template_string, input_variables=[\"topic\", \"structure\"])\n",
    "\n",
    "# 사용자 입력\n",
    "\n",
    "input_data = {\n",
    "    \"topic\" : \"요약\",\n",
    "    \"structure\" : \"-Introduction\\n- Progress Update\\n- Upcoming Milestone Planning\\n- General Discussion\\n- Closing\"\n",
    "}\n",
    "\n",
    "# 프롬프트 생성\n",
    "formatted_prompt = prompt_template.format(**input_data)\n",
    "print(formatted_prompt)"
   ]
  },
  {
   "cell_type": "code",
   "execution_count": 68,
   "id": "29e8d338-2533-4bc2-b401-4fef873d0fde",
   "metadata": {},
   "outputs": [
    {
     "name": "stderr",
     "output_type": "stream",
     "text": [
      "C:\\Users\\b1005\\AppData\\Local\\Temp\\ipykernel_5232\\3814202525.py:1: LangChainDeprecationWarning: The method `BaseChatModel.__call__` was deprecated in langchain-core 0.1.7 and will be removed in 1.0. Use :meth:`~invoke` instead.\n",
      "  document_content = llm(formatted_prompt)\n"
     ]
    },
    {
     "name": "stdout",
     "output_type": "stream",
     "text": [
      "생성된 문서:\n",
      "content='**ABC 기술 회사 제품 개발 팀 주간 진행 상황 회의록**\\n\\n- **일시:** 2023년 12월 26일\\n- **장소:** ABC 기술 회사 회의실\\n- **참석자:**\\n  - 최현수 (프로젝트 매니저)\\n  - 황지연 (주요 개발자)\\n  - 김태영 (UI/UX 디자이너)\\n\\n---\\n\\n### 회의 목적\\n- 프로젝트의 현재 진행 상황 검토\\n- 다가오는 마일스톤에 대한 계획 수립\\n\\n### 회의 내용\\n\\n1. **프로젝트 진행 상황 업데이트**\\n   - **최현수 (프로젝트 매니저):**\\n     - 전체 프로젝트 일정 점검\\n     - 현재까지의 진행 상황 요약\\n     - 주요 이슈 및 해결 방안 논의\\n   - **황지연 (주요 개발자):**\\n     - 개발 진행 상황 보고\\n     - 기술적 문제 및 해결 방안 공유\\n     - 다음 주 개발 목표 설정\\n   - **김태영 (UI/UX 디자이너):**\\n     - 디자인 진행 상황 및 피드백 반영 현황\\n     - 사용자 경험 개선을 위한 새로운 아이디어 제안\\n     - 다음 주 디자인 목표 설정\\n\\n2. **다가오는 마일스톤 계획**\\n   - 각 팀원별로 다음 주까지 달성해야 할 목표 설정\\n   - 마일스톤 달성을 위한 협업 방안 논의\\n   - 잠재적 리스크 및 대응 전략 검토\\n\\n3. **기타 논의 사항**\\n   - 추가 자원 필요 여부 검토\\n   - 팀 내 커뮤니케이션 개선 방안 논의\\n\\n### 결론\\n- 각 팀원은 다음 주까지의 목표를 명확히 설정하고, 이를 달성하기 위한 구체적인 계획을 수립하기로 함.\\n- 주간 회의를 통해 지속적인 진행 상황 점검 및 문제 해결을 위한 협업을 강화하기로 함.\\n\\n### 다음 회의 일정\\n- **일시:** 2024년 1월 2일\\n- **장소:** ABC 기술 회사 회의실\\n\\n---\\n\\n회의록 작성자: [작성자 이름]  \\n작성일: 2023년 12월 26일' additional_kwargs={'refusal': None} response_metadata={'token_usage': {'completion_tokens': 476, 'prompt_tokens': 159, 'total_tokens': 635, 'completion_tokens_details': {'accepted_prediction_tokens': 0, 'audio_tokens': 0, 'reasoning_tokens': 0, 'rejected_prediction_tokens': 0}, 'prompt_tokens_details': {'audio_tokens': 0, 'cached_tokens': 0}}, 'model_name': 'gpt-4o-2024-08-06', 'system_fingerprint': 'fp_50cad350e4', 'finish_reason': 'stop', 'logprobs': None} id='run-ef48f54d-0413-45fa-a3a5-6bb2917ab2bf-0' usage_metadata={'input_tokens': 159, 'output_tokens': 476, 'total_tokens': 635, 'input_token_details': {'audio': 0, 'cache_read': 0}, 'output_token_details': {'audio': 0, 'reasoning': 0}}\n"
     ]
    }
   ],
   "source": [
    "document_content = llm(formatted_prompt)\n",
    "# 결과 출력\n",
    "print(\"생성된 문서:\")\n",
    "print(document_content)"
   ]
  },
  {
   "cell_type": "code",
   "execution_count": 69,
   "id": "bf951281-7677-4fea-a8ad-47a326e2bbff",
   "metadata": {},
   "outputs": [
    {
     "data": {
      "text/plain": [
       "AIMessage(content='**ABC 기술 회사 제품 개발 팀 주간 진행 상황 회의록**\\n\\n- **일시:** 2023년 12월 26일\\n- **장소:** ABC 기술 회사 회의실\\n- **참석자:**\\n  - 최현수 (프로젝트 매니저)\\n  - 황지연 (주요 개발자)\\n  - 김태영 (UI/UX 디자이너)\\n\\n---\\n\\n### 회의 목적\\n- 프로젝트의 현재 진행 상황 검토\\n- 다가오는 마일스톤에 대한 계획 수립\\n\\n### 회의 내용\\n\\n1. **프로젝트 진행 상황 업데이트**\\n   - **최현수 (프로젝트 매니저):**\\n     - 전체 프로젝트 일정 점검\\n     - 현재까지의 진행 상황 요약\\n     - 주요 이슈 및 해결 방안 논의\\n   - **황지연 (주요 개발자):**\\n     - 개발 진행 상황 보고\\n     - 기술적 문제 및 해결 방안 공유\\n     - 다음 주 개발 목표 설정\\n   - **김태영 (UI/UX 디자이너):**\\n     - 디자인 진행 상황 및 피드백 반영 현황\\n     - 사용자 경험 개선을 위한 새로운 아이디어 제안\\n     - 다음 주 디자인 목표 설정\\n\\n2. **다가오는 마일스톤 계획**\\n   - 각 팀원별로 다음 주까지 달성해야 할 목표 설정\\n   - 마일스톤 달성을 위한 협업 방안 논의\\n   - 잠재적 리스크 및 대응 전략 검토\\n\\n3. **기타 논의 사항**\\n   - 추가 자원 필요 여부 검토\\n   - 팀 내 커뮤니케이션 개선 방안 논의\\n\\n### 결론\\n- 각 팀원은 다음 주까지의 목표를 명확히 설정하고, 이를 달성하기 위한 구체적인 계획을 수립하기로 함.\\n- 주간 회의를 통해 지속적인 진행 상황 점검 및 문제 해결을 위한 협업을 강화하기로 함.\\n\\n### 다음 회의 일정\\n- **일시:** 2024년 1월 2일\\n- **장소:** ABC 기술 회사 회의실\\n\\n---\\n\\n회의록 작성자: [작성자 이름]  \\n작성일: 2023년 12월 26일', additional_kwargs={'refusal': None}, response_metadata={'token_usage': {'completion_tokens': 476, 'prompt_tokens': 159, 'total_tokens': 635, 'completion_tokens_details': {'accepted_prediction_tokens': 0, 'audio_tokens': 0, 'reasoning_tokens': 0, 'rejected_prediction_tokens': 0}, 'prompt_tokens_details': {'audio_tokens': 0, 'cached_tokens': 0}}, 'model_name': 'gpt-4o-2024-08-06', 'system_fingerprint': 'fp_50cad350e4', 'finish_reason': 'stop', 'logprobs': None}, id='run-ef48f54d-0413-45fa-a3a5-6bb2917ab2bf-0', usage_metadata={'input_tokens': 159, 'output_tokens': 476, 'total_tokens': 635, 'input_token_details': {'audio': 0, 'cache_read': 0}, 'output_token_details': {'audio': 0, 'reasoning': 0}})"
      ]
     },
     "execution_count": 69,
     "metadata": {},
     "output_type": "execute_result"
    }
   ],
   "source": [
    "document_content"
   ]
  },
  {
   "cell_type": "code",
   "execution_count": null,
   "id": "218fec0b-d103-4cb3-b60c-b392b7f1dc2d",
   "metadata": {},
   "outputs": [],
   "source": [
    "#"
   ]
  },
  {
   "cell_type": "code",
   "execution_count": 71,
   "id": "efec9c37-4f4a-4c6b-9365-978058a22449",
   "metadata": {},
   "outputs": [
    {
     "name": "stdout",
     "output_type": "stream",
     "text": [
      "문서가 meeting_minutes.txt에 저장되었습니다.\n"
     ]
    }
   ],
   "source": [
    "#txt 파일로 저장\n",
    "file_path = \"meeting_minutes.txt\"\n",
    "with open(file_path, \"w\", encoding=\"utf-8\") as file:\n",
    "     file.write(document_content.content)\n",
    "\n",
    "print(f\"문서가 {file_path}에 저장되었습니다.\")"
   ]
  },
  {
   "cell_type": "code",
   "execution_count": 76,
   "id": "55226562-3479-4fcb-aee4-82bb64054479",
   "metadata": {},
   "outputs": [
    {
     "name": "stdout",
     "output_type": "stream",
     "text": [
      "문서가 meeting_minutes.docx에 저장되었습니다.\n"
     ]
    }
   ],
   "source": [
    "# word 문서 형식으로 저장\n",
    "from docx import Document\n",
    "from docx.oxml.ns import qn\n",
    "from docx.oxml import OxmlElement\n",
    "from docx.shared import Pt\n",
    "\n",
    "#문서 생성\n",
    "doc = Document()\n",
    "\n",
    "# 폰트 설정\n",
    "def set_korean_font(paragraph, font_name=\"맑은 고딕\", font_size=11):\n",
    "    run = paragraph.runs[0]\n",
    "    rPr = run._element.get_or_add_rPr()\n",
    "    rFonts = OxmlElement(\"w:rFonts\")\n",
    "    rFonts.set(qn(\"w:eastAsia\"), font_name)\n",
    "    rPr.append(rFonts)\n",
    "    run.font.size = Pt(font_size)\n",
    "\n",
    "\n",
    "paragraph = doc.add_paragraph(document_content.content)\n",
    "set_korean_font(paragraph, font_name=\"맑은 고딕\", font_size=12) \n",
    "\n",
    "file_path = \"meeting_minutes.docx\"\n",
    "doc.save(file_path)\n",
    "\n",
    "print(f\"문서가 {file_path}에 저장되었습니다.\")"
   ]
  },
  {
   "cell_type": "markdown",
   "id": "0f590fc3-a633-4baf-a753-d2a942cc3e42",
   "metadata": {},
   "source": [
    "## 또다른 방법"
   ]
  },
  {
   "cell_type": "code",
   "execution_count": 19,
   "id": "d77c3b70-de4e-4592-8dbf-1fd613e6b0b7",
   "metadata": {},
   "outputs": [
    {
     "ename": "NameError",
     "evalue": "name 'text_list' is not defined",
     "output_type": "error",
     "traceback": [
      "\u001b[1;31m---------------------------------------------------------------------------\u001b[0m",
      "\u001b[1;31mNameError\u001b[0m                                 Traceback (most recent call last)",
      "Cell \u001b[1;32mIn[19], line 5\u001b[0m\n\u001b[0;32m      2\u001b[0m \u001b[38;5;28;01mfrom\u001b[39;00m \u001b[38;5;21;01mlangchain\u001b[39;00m\u001b[38;5;21;01m.\u001b[39;00m\u001b[38;5;21;01mtext_splitter\u001b[39;00m \u001b[38;5;28;01mimport\u001b[39;00m CharacterTextSplitter\n\u001b[0;32m      4\u001b[0m doc_creator \u001b[38;5;241m=\u001b[39m CharacterTextSplitter(stream_response(answer))\n\u001b[1;32m----> 5\u001b[0m document \u001b[38;5;241m=\u001b[39m doc_creator\u001b[38;5;241m.\u001b[39mcreate_documents(texts \u001b[38;5;241m=\u001b[39m text_list, metadatas \u001b[38;5;241m=\u001b[39m metadata_list)\n",
      "\u001b[1;31mNameError\u001b[0m: name 'text_list' is not defined"
     ]
    }
   ],
   "source": [
    "from langchain.docstore.document import Document\n",
    "from langchain.text_splitter import CharacterTextSplitter\n",
    "\n",
    "doc_creator = CharacterTextSplitter(answer)\n",
    "document = doc_creator.create_documents(texts = text_list, metadatas = metadata_list)"
   ]
  },
  {
   "cell_type": "code",
   "execution_count": null,
   "id": "a70db746-e996-418d-8876-fefc39e0a3b2",
   "metadata": {},
   "outputs": [],
   "source": []
  }
 ],
 "metadata": {
  "kernelspec": {
   "display_name": "langchain",
   "language": "python",
   "name": "langchain"
  },
  "language_info": {
   "codemirror_mode": {
    "name": "ipython",
    "version": 3
   },
   "file_extension": ".py",
   "mimetype": "text/x-python",
   "name": "python",
   "nbconvert_exporter": "python",
   "pygments_lexer": "ipython3",
   "version": "3.11.11"
  }
 },
 "nbformat": 4,
 "nbformat_minor": 5
}
